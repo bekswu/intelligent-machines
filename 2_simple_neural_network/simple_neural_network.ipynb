{
 "cells": [
  {
   "cell_type": "markdown",
   "metadata": {},
   "source": [
    "# A simple neural network"
   ]
  },
  {
   "cell_type": "markdown",
   "metadata": {},
   "source": [
    "Neural networks are amazing. When used well, they seem simulate intellegent behavior to accomplish a wide variety of tasks ranging from image recognition to image generation, from language comprehension to language translation, and much more. The thing about neural networks, though, is that they are typically designed with a specific task in mind. \n",
    "\n",
    "Clever people have been spent a lot of time trying to discover ways to implement neural networks in order to optimize for specific tasks. This has lead to the discovery of a wide diversity of architectures that tend to be suited for their specific tasks. You may be familiar with some of these architectures. One such artchitecture is the convolutional nerual network (ConvNet). Another is the recurrent neural network (RNN). ConvNets tend to be suited for image recognition tasks, whereas RNNs tend to perform well on sequence based tasks, such as language processing.\n",
    "\n",
    "The simplest kind of neural network is called a feed forward network, which is what we'll focus on in this notebook. When you break down some of the more advanced architectures, it becomes apparent that they are basically just clever ways to combine various feed forward networks that use the same mathematical operations we'll learn about by building a feed forward network. For example, the LSTM architecture uses a system of feed forward networks to gate information as it passes through the network.\n",
    "\n",
    "So using our understanding of vector and matrix operations, lets implement a feed forward network from scratch using numpy!"
   ]
  },
  {
   "cell_type": "markdown",
   "metadata": {},
   "source": [
    "### The feed forward network \n",
    "\n",
    "Any neural network needs to be designed around a task. In the previous session we talked about some of the mathematical operations that occur inside a feed forward network, but haven't talked about any of the operations that happen on either end.\n",
    "\n",
    "On the input end, we typically need to consider getting our data cleaned and organized in such a way that that we can feed it in as a vector. On the other end, we need to pose the learning task in the form of a loss function, the goal that we are optimizing for."
   ]
  },
  {
   "cell_type": "markdown",
   "metadata": {},
   "source": [
    "We will use a standard dataset that does not require much preprocessing and we'll choose a simple loss function that doesn't require much work to understand for now. We can focus on these things in a later session. Input preprocessing tends to be different for each network you create, and loss functions will be discussed when we cover the the training process in greater depth.\n",
    "\n",
    "How can we implement a feed forward network without understanding how to train it? We can't! We'll gloss over backpropogation in this session and save that for the next session."
   ]
  },
  {
   "cell_type": "markdown",
   "metadata": {},
   "source": [
    "#### Imports"
   ]
  },
  {
   "cell_type": "code",
   "execution_count": 1,
   "metadata": {},
   "outputs": [],
   "source": [
    "import numpy as np\n",
    "from sklearn.datasets import load_boston\n",
    "import pandas as pd\n",
    "\n",
    "import matplotlib.pyplot as plt\n",
    "import seaborn as sns\n",
    "\n"
   ]
  },
  {
   "cell_type": "markdown",
   "metadata": {},
   "source": [
    "#### Load the dataset\n",
    "\n",
    "For this network, we'll use the boston housing dataset. The goal for this dataset is to learn a model that helps us predict the median market value of the house based on features gathered assocated with the property. This is idea for a simple neural network since we want to use a simple loss function. Since we're predicting a price, we can frame this as a regression problem and use a sum of squares loss function."
   ]
  },
  {
   "cell_type": "code",
   "execution_count": 2,
   "metadata": {},
   "outputs": [],
   "source": [
    "boston = load_boston(return_X_y=False)"
   ]
  },
  {
   "cell_type": "code",
   "execution_count": 3,
   "metadata": {},
   "outputs": [
    {
     "name": "stdout",
     "output_type": "stream",
     "text": [
      "Boston House Prices dataset\n",
      "===========================\n",
      "\n",
      "Notes\n",
      "------\n",
      "Data Set Characteristics:  \n",
      "\n",
      "    :Number of Instances: 506 \n",
      "\n",
      "    :Number of Attributes: 13 numeric/categorical predictive\n",
      "    \n",
      "    :Median Value (attribute 14) is usually the target\n",
      "\n",
      "    :Attribute Information (in order):\n",
      "        - CRIM     per capita crime rate by town\n",
      "        - ZN       proportion of residential land zoned for lots over 25,000 sq.ft.\n",
      "        - INDUS    proportion of non-retail business acres per town\n",
      "        - CHAS     Charles River dummy variable (= 1 if tract bounds river; 0 otherwise)\n",
      "        - NOX      nitric oxides concentration (parts per 10 million)\n",
      "        - RM       average number of rooms per dwelling\n",
      "        - AGE      proportion of owner-occupied units built prior to 1940\n",
      "        - DIS      weighted distances to five Boston employment centres\n",
      "        - RAD      index of accessibility to radial highways\n",
      "        - TAX      full-value property-tax rate per $10,000\n",
      "        - PTRATIO  pupil-teacher ratio by town\n",
      "        - B        1000(Bk - 0.63)^2 where Bk is the proportion of blacks by town\n",
      "        - LSTAT    % lower status of the population\n",
      "        - MEDV     Median value of owner-occupied homes in $1000's\n",
      "\n",
      "    :Missing Attribute Values: None\n",
      "\n",
      "    :Creator: Harrison, D. and Rubinfeld, D.L.\n",
      "\n",
      "This is a copy of UCI ML housing dataset.\n",
      "http://archive.ics.uci.edu/ml/datasets/Housing\n",
      "\n",
      "\n",
      "This dataset was taken from the StatLib library which is maintained at Carnegie Mellon University.\n",
      "\n",
      "The Boston house-price data of Harrison, D. and Rubinfeld, D.L. 'Hedonic\n",
      "prices and the demand for clean air', J. Environ. Economics & Management,\n",
      "vol.5, 81-102, 1978.   Used in Belsley, Kuh & Welsch, 'Regression diagnostics\n",
      "...', Wiley, 1980.   N.B. Various transformations are used in the table on\n",
      "pages 244-261 of the latter.\n",
      "\n",
      "The Boston house-price data has been used in many machine learning papers that address regression\n",
      "problems.   \n",
      "     \n",
      "**References**\n",
      "\n",
      "   - Belsley, Kuh & Welsch, 'Regression diagnostics: Identifying Influential Data and Sources of Collinearity', Wiley, 1980. 244-261.\n",
      "   - Quinlan,R. (1993). Combining Instance-Based and Model-Based Learning. In Proceedings on the Tenth International Conference of Machine Learning, 236-243, University of Massachusetts, Amherst. Morgan Kaufmann.\n",
      "   - many more! (see http://archive.ics.uci.edu/ml/datasets/Housing)\n",
      "\n"
     ]
    }
   ],
   "source": [
    "print(boston.DESCR)"
   ]
  },
  {
   "cell_type": "markdown",
   "metadata": {},
   "source": [
    "#### Visualize the data"
   ]
  },
  {
   "cell_type": "code",
   "execution_count": 4,
   "metadata": {},
   "outputs": [
    {
     "data": {
      "text/plain": [
       "array([[6.3200e-03, 1.8000e+01, 2.3100e+00, ..., 1.5300e+01, 3.9690e+02,\n",
       "        4.9800e+00],\n",
       "       [2.7310e-02, 0.0000e+00, 7.0700e+00, ..., 1.7800e+01, 3.9690e+02,\n",
       "        9.1400e+00],\n",
       "       [2.7290e-02, 0.0000e+00, 7.0700e+00, ..., 1.7800e+01, 3.9283e+02,\n",
       "        4.0300e+00],\n",
       "       ...,\n",
       "       [6.0760e-02, 0.0000e+00, 1.1930e+01, ..., 2.1000e+01, 3.9690e+02,\n",
       "        5.6400e+00],\n",
       "       [1.0959e-01, 0.0000e+00, 1.1930e+01, ..., 2.1000e+01, 3.9345e+02,\n",
       "        6.4800e+00],\n",
       "       [4.7410e-02, 0.0000e+00, 1.1930e+01, ..., 2.1000e+01, 3.9690e+02,\n",
       "        7.8800e+00]])"
      ]
     },
     "execution_count": 4,
     "metadata": {},
     "output_type": "execute_result"
    }
   ],
   "source": [
    "boston.data"
   ]
  },
  {
   "cell_type": "code",
   "execution_count": 5,
   "metadata": {},
   "outputs": [
    {
     "data": {
      "text/plain": [
       "array([24. , 21.6, 34.7, 33.4, 36.2, 28.7, 22.9, 27.1, 16.5, 18.9, 15. ,\n",
       "       18.9, 21.7, 20.4, 18.2, 19.9, 23.1, 17.5, 20.2, 18.2, 13.6, 19.6,\n",
       "       15.2, 14.5, 15.6, 13.9, 16.6, 14.8, 18.4, 21. , 12.7, 14.5, 13.2,\n",
       "       13.1, 13.5, 18.9, 20. , 21. , 24.7, 30.8, 34.9, 26.6, 25.3, 24.7,\n",
       "       21.2, 19.3, 20. , 16.6, 14.4, 19.4, 19.7, 20.5, 25. , 23.4, 18.9,\n",
       "       35.4, 24.7, 31.6, 23.3, 19.6, 18.7, 16. , 22.2, 25. , 33. , 23.5,\n",
       "       19.4, 22. , 17.4, 20.9, 24.2, 21.7, 22.8, 23.4, 24.1, 21.4, 20. ,\n",
       "       20.8, 21.2, 20.3, 28. , 23.9, 24.8, 22.9, 23.9, 26.6, 22.5, 22.2,\n",
       "       23.6, 28.7, 22.6, 22. , 22.9, 25. , 20.6, 28.4, 21.4, 38.7, 43.8,\n",
       "       33.2, 27.5, 26.5, 18.6, 19.3, 20.1, 19.5, 19.5, 20.4, 19.8, 19.4,\n",
       "       21.7, 22.8, 18.8, 18.7, 18.5, 18.3, 21.2, 19.2, 20.4, 19.3, 22. ,\n",
       "       20.3, 20.5, 17.3, 18.8, 21.4, 15.7, 16.2, 18. , 14.3, 19.2, 19.6,\n",
       "       23. , 18.4, 15.6, 18.1, 17.4, 17.1, 13.3, 17.8, 14. , 14.4, 13.4,\n",
       "       15.6, 11.8, 13.8, 15.6, 14.6, 17.8, 15.4, 21.5, 19.6, 15.3, 19.4,\n",
       "       17. , 15.6, 13.1, 41.3, 24.3, 23.3, 27. , 50. , 50. , 50. , 22.7,\n",
       "       25. , 50. , 23.8, 23.8, 22.3, 17.4, 19.1, 23.1, 23.6, 22.6, 29.4,\n",
       "       23.2, 24.6, 29.9, 37.2, 39.8, 36.2, 37.9, 32.5, 26.4, 29.6, 50. ,\n",
       "       32. , 29.8, 34.9, 37. , 30.5, 36.4, 31.1, 29.1, 50. , 33.3, 30.3,\n",
       "       34.6, 34.9, 32.9, 24.1, 42.3, 48.5, 50. , 22.6, 24.4, 22.5, 24.4,\n",
       "       20. , 21.7, 19.3, 22.4, 28.1, 23.7, 25. , 23.3, 28.7, 21.5, 23. ,\n",
       "       26.7, 21.7, 27.5, 30.1, 44.8, 50. , 37.6, 31.6, 46.7, 31.5, 24.3,\n",
       "       31.7, 41.7, 48.3, 29. , 24. , 25.1, 31.5, 23.7, 23.3, 22. , 20.1,\n",
       "       22.2, 23.7, 17.6, 18.5, 24.3, 20.5, 24.5, 26.2, 24.4, 24.8, 29.6,\n",
       "       42.8, 21.9, 20.9, 44. , 50. , 36. , 30.1, 33.8, 43.1, 48.8, 31. ,\n",
       "       36.5, 22.8, 30.7, 50. , 43.5, 20.7, 21.1, 25.2, 24.4, 35.2, 32.4,\n",
       "       32. , 33.2, 33.1, 29.1, 35.1, 45.4, 35.4, 46. , 50. , 32.2, 22. ,\n",
       "       20.1, 23.2, 22.3, 24.8, 28.5, 37.3, 27.9, 23.9, 21.7, 28.6, 27.1,\n",
       "       20.3, 22.5, 29. , 24.8, 22. , 26.4, 33.1, 36.1, 28.4, 33.4, 28.2,\n",
       "       22.8, 20.3, 16.1, 22.1, 19.4, 21.6, 23.8, 16.2, 17.8, 19.8, 23.1,\n",
       "       21. , 23.8, 23.1, 20.4, 18.5, 25. , 24.6, 23. , 22.2, 19.3, 22.6,\n",
       "       19.8, 17.1, 19.4, 22.2, 20.7, 21.1, 19.5, 18.5, 20.6, 19. , 18.7,\n",
       "       32.7, 16.5, 23.9, 31.2, 17.5, 17.2, 23.1, 24.5, 26.6, 22.9, 24.1,\n",
       "       18.6, 30.1, 18.2, 20.6, 17.8, 21.7, 22.7, 22.6, 25. , 19.9, 20.8,\n",
       "       16.8, 21.9, 27.5, 21.9, 23.1, 50. , 50. , 50. , 50. , 50. , 13.8,\n",
       "       13.8, 15. , 13.9, 13.3, 13.1, 10.2, 10.4, 10.9, 11.3, 12.3,  8.8,\n",
       "        7.2, 10.5,  7.4, 10.2, 11.5, 15.1, 23.2,  9.7, 13.8, 12.7, 13.1,\n",
       "       12.5,  8.5,  5. ,  6.3,  5.6,  7.2, 12.1,  8.3,  8.5,  5. , 11.9,\n",
       "       27.9, 17.2, 27.5, 15. , 17.2, 17.9, 16.3,  7. ,  7.2,  7.5, 10.4,\n",
       "        8.8,  8.4, 16.7, 14.2, 20.8, 13.4, 11.7,  8.3, 10.2, 10.9, 11. ,\n",
       "        9.5, 14.5, 14.1, 16.1, 14.3, 11.7, 13.4,  9.6,  8.7,  8.4, 12.8,\n",
       "       10.5, 17.1, 18.4, 15.4, 10.8, 11.8, 14.9, 12.6, 14.1, 13. , 13.4,\n",
       "       15.2, 16.1, 17.8, 14.9, 14.1, 12.7, 13.5, 14.9, 20. , 16.4, 17.7,\n",
       "       19.5, 20.2, 21.4, 19.9, 19. , 19.1, 19.1, 20.1, 19.9, 19.6, 23.2,\n",
       "       29.8, 13.8, 13.3, 16.7, 12. , 14.6, 21.4, 23. , 23.7, 25. , 21.8,\n",
       "       20.6, 21.2, 19.1, 20.6, 15.2,  7. ,  8.1, 13.6, 20.1, 21.8, 24.5,\n",
       "       23.1, 19.7, 18.3, 21.2, 17.5, 16.8, 22.4, 20.6, 23.9, 22. , 11.9])"
      ]
     },
     "execution_count": 5,
     "metadata": {},
     "output_type": "execute_result"
    }
   ],
   "source": [
    "boston.target"
   ]
  },
  {
   "cell_type": "code",
   "execution_count": 6,
   "metadata": {},
   "outputs": [
    {
     "data": {
      "text/html": [
       "<div>\n",
       "<style scoped>\n",
       "    .dataframe tbody tr th:only-of-type {\n",
       "        vertical-align: middle;\n",
       "    }\n",
       "\n",
       "    .dataframe tbody tr th {\n",
       "        vertical-align: top;\n",
       "    }\n",
       "\n",
       "    .dataframe thead th {\n",
       "        text-align: right;\n",
       "    }\n",
       "</style>\n",
       "<table border=\"1\" class=\"dataframe\">\n",
       "  <thead>\n",
       "    <tr style=\"text-align: right;\">\n",
       "      <th></th>\n",
       "      <th>CRIM</th>\n",
       "      <th>ZN</th>\n",
       "      <th>INDUS</th>\n",
       "      <th>CHAS</th>\n",
       "      <th>NOX</th>\n",
       "      <th>RM</th>\n",
       "      <th>AGE</th>\n",
       "      <th>DIS</th>\n",
       "      <th>RAD</th>\n",
       "      <th>TAX</th>\n",
       "      <th>PTRATIO</th>\n",
       "      <th>B</th>\n",
       "      <th>LSTAT</th>\n",
       "      <th>target</th>\n",
       "    </tr>\n",
       "  </thead>\n",
       "  <tbody>\n",
       "    <tr>\n",
       "      <th>0</th>\n",
       "      <td>0.00632</td>\n",
       "      <td>18.0</td>\n",
       "      <td>2.31</td>\n",
       "      <td>0.0</td>\n",
       "      <td>0.538</td>\n",
       "      <td>6.575</td>\n",
       "      <td>65.2</td>\n",
       "      <td>4.0900</td>\n",
       "      <td>1.0</td>\n",
       "      <td>296.0</td>\n",
       "      <td>15.3</td>\n",
       "      <td>396.90</td>\n",
       "      <td>4.98</td>\n",
       "      <td>24.0</td>\n",
       "    </tr>\n",
       "    <tr>\n",
       "      <th>1</th>\n",
       "      <td>0.02731</td>\n",
       "      <td>0.0</td>\n",
       "      <td>7.07</td>\n",
       "      <td>0.0</td>\n",
       "      <td>0.469</td>\n",
       "      <td>6.421</td>\n",
       "      <td>78.9</td>\n",
       "      <td>4.9671</td>\n",
       "      <td>2.0</td>\n",
       "      <td>242.0</td>\n",
       "      <td>17.8</td>\n",
       "      <td>396.90</td>\n",
       "      <td>9.14</td>\n",
       "      <td>21.6</td>\n",
       "    </tr>\n",
       "    <tr>\n",
       "      <th>2</th>\n",
       "      <td>0.02729</td>\n",
       "      <td>0.0</td>\n",
       "      <td>7.07</td>\n",
       "      <td>0.0</td>\n",
       "      <td>0.469</td>\n",
       "      <td>7.185</td>\n",
       "      <td>61.1</td>\n",
       "      <td>4.9671</td>\n",
       "      <td>2.0</td>\n",
       "      <td>242.0</td>\n",
       "      <td>17.8</td>\n",
       "      <td>392.83</td>\n",
       "      <td>4.03</td>\n",
       "      <td>34.7</td>\n",
       "    </tr>\n",
       "    <tr>\n",
       "      <th>3</th>\n",
       "      <td>0.03237</td>\n",
       "      <td>0.0</td>\n",
       "      <td>2.18</td>\n",
       "      <td>0.0</td>\n",
       "      <td>0.458</td>\n",
       "      <td>6.998</td>\n",
       "      <td>45.8</td>\n",
       "      <td>6.0622</td>\n",
       "      <td>3.0</td>\n",
       "      <td>222.0</td>\n",
       "      <td>18.7</td>\n",
       "      <td>394.63</td>\n",
       "      <td>2.94</td>\n",
       "      <td>33.4</td>\n",
       "    </tr>\n",
       "    <tr>\n",
       "      <th>4</th>\n",
       "      <td>0.06905</td>\n",
       "      <td>0.0</td>\n",
       "      <td>2.18</td>\n",
       "      <td>0.0</td>\n",
       "      <td>0.458</td>\n",
       "      <td>7.147</td>\n",
       "      <td>54.2</td>\n",
       "      <td>6.0622</td>\n",
       "      <td>3.0</td>\n",
       "      <td>222.0</td>\n",
       "      <td>18.7</td>\n",
       "      <td>396.90</td>\n",
       "      <td>5.33</td>\n",
       "      <td>36.2</td>\n",
       "    </tr>\n",
       "  </tbody>\n",
       "</table>\n",
       "</div>"
      ],
      "text/plain": [
       "      CRIM    ZN  INDUS  CHAS    NOX     RM   AGE     DIS  RAD    TAX  \\\n",
       "0  0.00632  18.0   2.31   0.0  0.538  6.575  65.2  4.0900  1.0  296.0   \n",
       "1  0.02731   0.0   7.07   0.0  0.469  6.421  78.9  4.9671  2.0  242.0   \n",
       "2  0.02729   0.0   7.07   0.0  0.469  7.185  61.1  4.9671  2.0  242.0   \n",
       "3  0.03237   0.0   2.18   0.0  0.458  6.998  45.8  6.0622  3.0  222.0   \n",
       "4  0.06905   0.0   2.18   0.0  0.458  7.147  54.2  6.0622  3.0  222.0   \n",
       "\n",
       "   PTRATIO       B  LSTAT  target  \n",
       "0     15.3  396.90   4.98    24.0  \n",
       "1     17.8  396.90   9.14    21.6  \n",
       "2     17.8  392.83   4.03    34.7  \n",
       "3     18.7  394.63   2.94    33.4  \n",
       "4     18.7  396.90   5.33    36.2  "
      ]
     },
     "execution_count": 6,
     "metadata": {},
     "output_type": "execute_result"
    }
   ],
   "source": [
    "df = pd.DataFrame(boston.data, columns=['CRIM', 'ZN', 'INDUS', 'CHAS', 'NOX',\n",
    "                                        'RM', 'AGE', 'DIS', 'RAD', 'TAX', 'PTRATIO',\n",
    "                                        'B', 'LSTAT'])\n",
    "df.loc[:, 'target'] = boston.target\n",
    "df.head()"
   ]
  },
  {
   "cell_type": "markdown",
   "metadata": {},
   "source": [
    "With any dataset, there is the opportunity to explore the data to find feature that are going to likely be the most helpful when training the model. This is the case for any model and it is generally recommended. Since we're focusing on the network implementation, we'll skip the data exploration for now. "
   ]
  },
  {
   "cell_type": "markdown",
   "metadata": {},
   "source": [
    "#### Define a data batcher\n",
    "When we send data through the network, we can send samples through one at a time or in batches. So its useful to have a function that handle that for us."
   ]
  },
  {
   "cell_type": "code",
   "execution_count": 8,
   "metadata": {},
   "outputs": [],
   "source": [
    "def data_batcher(inputs, targets, batch_size=5):\n",
    "    assert len(inputs) == len(targets)\n",
    "    \n",
    "    inputs = inputs[: -(len(inputs) % batch_size)].reshape(-1, batch_size, inputs.shape[1])\n",
    "    targets = targets[: -(len(targets) % batch_size)].reshape(-1, batch_size)\n",
    "    \n",
    "    batched_data = list()\n",
    "    for x_inputs, y_targets in zip(inputs, targets):\n",
    "        batched_data.append([x_inputs, y_targets.reshape(-1, 1)])\n",
    "    \n",
    "    return batched_data"
   ]
  },
  {
   "cell_type": "markdown",
   "metadata": {},
   "source": [
    "#### Define a loss function"
   ]
  },
  {
   "cell_type": "code",
   "execution_count": 25,
   "metadata": {},
   "outputs": [],
   "source": [
    "def loss_function(pred, targ):\n",
    "    return 0.5 * np.sum((targ - pred)**2)"
   ]
  },
  {
   "cell_type": "code",
   "execution_count": 26,
   "metadata": {},
   "outputs": [],
   "source": [
    "def loss_function_deriv(pred, targ):\n",
    "    return (targ - pred)"
   ]
  },
  {
   "cell_type": "markdown",
   "metadata": {},
   "source": [
    "### Implement a linear network"
   ]
  },
  {
   "cell_type": "code",
   "execution_count": 52,
   "metadata": {},
   "outputs": [
    {
     "name": "stdout",
     "output_type": "stream",
     "text": [
      "epoch 0 ... loss: 24280.97\n",
      "epoch 5000 ... loss: 8906.51\n",
      "epoch 10000 ... loss: 7962.93\n",
      "epoch 15000 ... loss: 7563.06\n",
      "epoch 20000 ... loss: 7344.25\n",
      "epoch 25000 ... loss: 7211.22\n",
      "epoch 30000 ... loss: 7128.51\n",
      "epoch 35000 ... loss: 7095.37\n",
      "epoch 40000 ... loss: 7108.56\n",
      "epoch 45000 ... loss: 7117.18\n"
     ]
    }
   ],
   "source": [
    "# Set how many times to iterate through the dataset\n",
    "epochs = 50000\n",
    "\n",
    "# Set hyperparamters\n",
    "lr = 0.00001\n",
    "batch_size = 5\n",
    "\n",
    "#Set dimensions of hidden layer\n",
    "input_size = 13\n",
    "hidden_size = 10\n",
    "\n",
    "samples_seen = 0\n",
    "\n",
    "# Set learnable weight matrices\n",
    "hidden_weights = np.random.normal(loc=0.0, scale=0.01, size=(13, 10))\n",
    "output_weights = np.random.normal(loc=0.0, scale=0.01, size=(10, 1))  # a single output!\n",
    "\n",
    "# Train the network\n",
    "for each_epoch in range(epochs):\n",
    "    \n",
    "    #create\n",
    "    batched_data = data_batcher(boston.data, boston.target, batch_size=batch_size)\n",
    "    epoch_loss = 0\n",
    "    \n",
    "    for batch_input, batch_target in batched_data:\n",
    "\n",
    "        samples_seen += 1 * batch_size\n",
    "\n",
    "        # Forward Pass\n",
    "        hidden_layer_out = np.dot(batch_input, hidden_weights) # No activation function\n",
    "        pred = np.dot(hidden_layer_out, output_weights) # No activation function\n",
    "\n",
    "        # loss\n",
    "        epoch_loss += loss_function(pred, batch_target)\n",
    "\n",
    "        # backprop\n",
    "        l2delta = loss_function_deriv(pred, batch_target) # No derivative\n",
    "        l1delta = np.dot(l2delta, output_weights.T)  # No derivative since no nonlinear activation!\n",
    "\n",
    "        # gradient descent\n",
    "        output_weights += np.dot(hidden_layer_out.T, l2delta) * lr\n",
    "        hidden_weights += np.dot(batch_input.T, l1delta) * lr\n",
    "\n",
    "    if each_epoch % 5000 == 0:\n",
    "        print(\"epoch {} ... loss: {} ... samples seen: {}\".format(each_epoch, round(epoch_loss, 2), samples_seen))\n"
   ]
  },
  {
   "cell_type": "markdown",
   "metadata": {},
   "source": [
    "## Implement a non-linear network"
   ]
  },
  {
   "cell_type": "code",
   "execution_count": 54,
   "metadata": {},
   "outputs": [],
   "source": [
    "def sigmoid(x):  # Non-linearity\n",
    "    return 1. / (1 + np.exp(-x))\n",
    "\n",
    "def sigmoid_deriv(x):\n",
    "    return x * (1. - x)"
   ]
  },
  {
   "cell_type": "code",
   "execution_count": 56,
   "metadata": {},
   "outputs": [
    {
     "name": "stdout",
     "output_type": "stream",
     "text": [
      "epoch 0 ... loss: 145977.46 ... samples seen: 505\n",
      "epoch 5000 ... loss: 19464.9 ... samples seen: 2525505\n",
      "epoch 10000 ... loss: 19353.07 ... samples seen: 5050505\n",
      "epoch 15000 ... loss: 19347.6 ... samples seen: 7575505\n",
      "epoch 20000 ... loss: 17468.07 ... samples seen: 10100505\n",
      "epoch 25000 ... loss: 19329.32 ... samples seen: 12625505\n",
      "epoch 30000 ... loss: 19334.11 ... samples seen: 15150505\n",
      "epoch 35000 ... loss: 19333.33 ... samples seen: 17675505\n",
      "epoch 40000 ... loss: 19332.69 ... samples seen: 20200505\n",
      "epoch 45000 ... loss: 19332.16 ... samples seen: 22725505\n"
     ]
    }
   ],
   "source": [
    "# Set how many times to iterate through the dataset\n",
    "epochs = 50000\n",
    "\n",
    "# Set hyperparamters\n",
    "lr = 0.00001\n",
    "batch_size = 5\n",
    "\n",
    "#Set dimensions of hidden layer\n",
    "input_size = 13\n",
    "hidden_size = 10\n",
    "\n",
    "# Set learnable weight matrices\n",
    "hidden_weights = np.random.normal(loc=0.0, scale=0.01, size=(13, 10))\n",
    "output_weights = np.random.normal(loc=0.0, scale=0.01, size=(10, 1))  # a single output!\n",
    "\n",
    "samples_seen = 0\n",
    "# Train the network\n",
    "for each_epoch in range(epochs):\n",
    "    \n",
    "    #create\n",
    "    batched_data = data_batcher(boston.data, boston.target, batch_size=batch_size)\n",
    "    epoch_loss = 0\n",
    "    \n",
    "    for batch_input, batch_target in batched_data:\n",
    "        samples_seen += 1 * batch_size\n",
    "        \n",
    "        # Forward pass\n",
    "        hidden_layer_out = sigmoid(np.dot(batch_input, hidden_weights))\n",
    "        pred = np.dot(hidden_layer_out, output_weights) # No activation function\n",
    "\n",
    "        # loss\n",
    "        epoch_loss += loss_function(pred, batch_target)\n",
    "\n",
    "        # backprop\n",
    "        l2delta = loss_function_deriv(pred, batch_target) * 1\n",
    "        l1delta = np.dot(l2delta, output_weights.T)  * sigmoid_deriv(hidden_layer_out)\n",
    "\n",
    "        # gradient descent\n",
    "        output_weights += np.dot(hidden_layer_out.T, l2delta) * lr\n",
    "        hidden_weights += np.dot(batch_input.T, l1delta) * lr\n",
    "\n",
    "    if each_epoch % 5000 == 0:\n",
    "        print(\"epoch {} ... loss: {} ... samples seen: {}\".format(each_epoch, round(epoch_loss, 2), samples_seen))\n"
   ]
  },
  {
   "cell_type": "markdown",
   "metadata": {},
   "source": [
    "#### Create a layer class and do it again"
   ]
  },
  {
   "cell_type": "code",
   "execution_count": 92,
   "metadata": {},
   "outputs": [],
   "source": [
    "class Layer(object):\n",
    "    \n",
    "    def __init__(self, \n",
    "                 input_dim,\n",
    "                 output_dim,\n",
    "                 learning_rate,\n",
    "                 name,\n",
    "                 activation=None):\n",
    "\n",
    "        self.weights = np.random.normal(0.0, 0.01, (input_dim, output_dim))\n",
    "        self.name = name\n",
    "        self.learning_rate = learning_rate\n",
    "        self.input_dim = input_dim\n",
    "        self.output_dim = output_dim\n",
    "\n",
    "        activations = {'sigmoid': self.sigmoid,\n",
    "                       'relu': self.relu,\n",
    "                        None: self.non_activation}\n",
    "\n",
    "        derivs = {'sigmoid': self.sigmoid_deriv,\n",
    "                  'relu': self.relu_driv,\n",
    "                   None: self.non_activation_deriv}\n",
    "\n",
    "\n",
    "        self.activation = activations[activation]\n",
    "        self.activation_deriv = derivs[activation]\n",
    "\n",
    "    def forward_pass(self, input_x):\n",
    "        self.input = input_x\n",
    "        self.output = self.activation(np.dot(self.input, self.weights))\n",
    "        return self.output\n",
    "\n",
    "    def backward_pass(self, output_delta):\n",
    "        self.weight_output_delta = output_delta * self.activation_deriv(self.output)\n",
    "        return np.dot(self.weight_output_delta, self.weights.T)\n",
    "\n",
    "    def update_weights(self):\n",
    "        self.weights += np.dot(self.input.T, self.weight_output_delta) * self.learning_rate\n",
    "\n",
    "    def sigmoid(self, x):\n",
    "        return 1. / (1 + np.exp(-x))\n",
    "\n",
    "    def sigmoid_deriv(self, x):\n",
    "        return x * (1. - x)\n",
    "    \n",
    "    def non_activation(self, x):\n",
    "        return x\n",
    "    \n",
    "    def non_activation_deriv(self, x):\n",
    "        return 1\n",
    "    \n",
    "    def relu(self, x):\n",
    "        return 0 if x <= 0 else x\n",
    "    \n",
    "    def relu_deriv(self, x):\n",
    "        return 1"
   ]
  },
  {
   "cell_type": "code",
   "execution_count": 91,
   "metadata": {},
   "outputs": [
    {
     "name": "stdout",
     "output_type": "stream",
     "text": [
      "epoch 0 ... loss: 23522.85 ... samples seen: 505\n",
      "epoch 5000 ... loss: 8906.18 ... samples seen: 2525505\n",
      "epoch 10000 ... loss: 7962.73 ... samples seen: 5050505\n",
      "epoch 15000 ... loss: 7562.94 ... samples seen: 7575505\n",
      "epoch 20000 ... loss: 7344.18 ... samples seen: 10100505\n",
      "epoch 25000 ... loss: 7211.16 ... samples seen: 12625505\n",
      "epoch 30000 ... loss: 7128.46 ... samples seen: 15150505\n",
      "epoch 35000 ... loss: 7097.43 ... samples seen: 17675505\n",
      "epoch 40000 ... loss: 7108.94 ... samples seen: 20200505\n",
      "epoch 45000 ... loss: 7116.5 ... samples seen: 22725505\n"
     ]
    }
   ],
   "source": [
    "# Set how many times to iterate through the dataset\n",
    "epochs = 50000\n",
    "\n",
    "# Set hyperparamters\n",
    "lr = 0.00001\n",
    "batch_size = 5\n",
    "\n",
    "\n",
    "# init layers\n",
    "hidden_layer = Layer(input_dim=13, output_dim=10, learning_rate=lr, name='hidden_layer')\n",
    "output_layer = Layer(input_dim=10, output_dim=1, learning_rate=lr, name='output_layer')\n",
    "\n",
    "samples_seen = 0\n",
    "\n",
    "# Train the network\n",
    "for each_epoch in range(epochs):\n",
    "\n",
    "    #create batches\n",
    "    batched_data = data_batcher(boston.data, boston.target, batch_size=batch_size)\n",
    "\n",
    "    epoch_loss = 0\n",
    "    for batch_input, batch_target in batched_data:\n",
    "        samples_seen += 1 * batch_size\n",
    "\n",
    "        # Forward pass\n",
    "        hidden_out = hidden_layer.forward_pass(batch_input)\n",
    "        pred = output_layer.forward_pass(hidden_out)\n",
    "\n",
    "        # loss\n",
    "        epoch_loss += loss_function(pred, batch_target)\n",
    "\n",
    "        # backprop\n",
    "        output_delta = loss_function_deriv(pred, batch_target)\n",
    "        hidden_delta = output_layer.backward_pass(output_delta)\n",
    "        hidden_layer.backward_pass(hidden_delta)\n",
    "\n",
    "        # gradient descent\n",
    "        output_layer.update_weights()\n",
    "        hidden_layer.update_weights()\n",
    "\n",
    "    if each_epoch % 5000 == 0:\n",
    "        print(\"epoch {} ... loss: {} ... samples seen: {}\".format(each_epoch, round(epoch_loss, 2), samples_seen))\n"
   ]
  },
  {
   "cell_type": "code",
   "execution_count": 93,
   "metadata": {},
   "outputs": [
    {
     "name": "stderr",
     "output_type": "stream",
     "text": [
      "/Users/pgradie/miniconda-3.9.1/envs/py3/lib/python3.6/site-packages/matplotlib/axes/_axes.py:6462: UserWarning: The 'normed' kwarg is deprecated, and has been replaced by the 'density' kwarg.\n",
      "  warnings.warn(\"The 'normed' kwarg is deprecated, and has been \"\n"
     ]
    },
    {
     "data": {
      "image/png": "[encoded data removed]",
      "text/plain": [
       "<Figure size 1296x864 with 4 Axes>"
      ]
     },
     "metadata": {},
     "output_type": "display_data"
    }
   ],
   "source": [
    "layers = [hidden_layer.weights, output_layer.weights,\n",
    "          hidden_layer.weights.flatten(), output_layer.weights.flatten()]\n",
    "\n",
    "fig, axs = plt.subplots(figsize=(18, 12), nrows=2, ncols=2)\n",
    "bar = False\n",
    "for ix, (layer, ax) in enumerate(zip(layers, axs.flatten())):\n",
    "    if ix < 2:\n",
    "        if ix == 2:\n",
    "            bar = True\n",
    "        sns.heatmap(layer, ax=ax, cbar=bar)\n",
    "        ax.set_title('layer {} weights'.format(ix+1), fontdict={'fontsize': 18})\n",
    "    else:\n",
    "        sns.distplot(layer, ax=ax);"
   ]
  },
  {
   "cell_type": "code",
   "execution_count": null,
   "metadata": {},
   "outputs": [],
   "source": []
  }
 ],
 "metadata": {
  "kernelspec": {
   "display_name": "Python 3",
   "language": "python",
   "name": "python3"
  },
  "language_info": {
   "codemirror_mode": {
    "name": "ipython",
    "version": 3
   },
   "file_extension": ".py",
   "mimetype": "text/x-python",
   "name": "python",
   "nbconvert_exporter": "python",
   "pygments_lexer": "ipython3",
   "version": "3.6.5"
  }
 },
 "nbformat": 4,
 "nbformat_minor": 2
}
