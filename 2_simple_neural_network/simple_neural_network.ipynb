{
 "cells": [
  {
   "cell_type": "markdown",
   "metadata": {},
   "source": [
    "# A simple feed forward neural network"
   ]
  },
  {
   "cell_type": "markdown",
   "metadata": {},
   "source": [
    "Neural networks are amazing. When properly constructed, they can be used to perform specific tasks such as image recognition and language translation. They are complex machines however, grounded in mathematics and require diligent tuning efforts to get right. Typically, neural networks are designed with a specific task in mind, and the network architecture reflects characteristics of the problem.\n",
    "\n",
    "The search for architectures suitable for specific tasks is an ongoing one, however you may be familiar with some of the architectures that have been discovered so far. One such architecture is the convolutional neural network (ConvNet). Another is the recurrent neural network (RNN). ConvNets have enjoyed much success in the domain of image recognition, where a characteristic of the problem is the correlative nature of pixel values when forming images, whereas RNNs tend to perform well on sequence based tasks, where signal is embedded in the order of sequence elements.\n",
    "\n",
    "The simplest kind of neural network is called a restricted bolztmann machine, also called the feed-forward network, which is what we'll focus on in this notebook. When you break down some of the more advanced architectures, it becomes apparent that they are basically just clever ways to combine various feed-forward networks that use the same mathematical operations we'll learn about by building a simple feed-forward network.\n",
    "\n",
    "So using our understanding of vector and matrix operations, let's implement a feed-forward network from scratch using numpy!"
   ]
  },
  {
   "cell_type": "markdown",
   "metadata": {},
   "source": [
    "## What we'll cover"
   ]
  },
  {
   "cell_type": "markdown",
   "metadata": {},
   "source": [
    "#### In this notebook, we'll go over:\n",
    " - how to build a simple neural network to approximate a mathematical function\n",
    " - explore the limitations of a purely linear network\n",
    " - explore how using non-linear functions in the network all us to model non-linear mathematical functions\n",
    " - how to set up some data for training\n",
    " - how to implement the forward pass of a neural network\n",
    " - how to predict housing prices using a NN\n",
    "\n",
    "#### and if we have time:\n",
    " - how modern NN libraries attempt to abstract layers by implementing a layer class\n",
    " - how we can implement a NN using keras\n",
    " - how we can implement a NN using TF"
   ]
  },
  {
   "cell_type": "markdown",
   "metadata": {},
   "source": [
    "#### What we'll gloss over"
   ]
  },
  {
   "cell_type": "markdown",
   "metadata": {},
   "source": [
    "We won't spend too much time discussing the mechanics of training; backpropogation and gradient descent. This will be covered in the next session."
   ]
  },
  {
   "cell_type": "markdown",
   "metadata": {},
   "source": [
    "### The operations at the ends of the network\n",
    "\n",
    "In the previous session we talked about some of the mathematical operations that happen inside of a feed-forward network, but we haven't talked about any of the operations that happen on either end.\n",
    "\n",
    "Neural networks essentially learn to generalize a data distribution, so to train a network we need some input data and the target distribution. On the input end of the network, we typically need to consider getting our data cleaned and organized in such a way that that we can feed it in as a vector (but as a single row in a 2d matrix). On the other end of the network (i.e. the output end), we need a loss function to compute the loss and drive the network towards the goal that we'd like to  optimize for."
   ]
  },
  {
   "cell_type": "markdown",
   "metadata": {},
   "source": [
    "#### The data"
   ]
  },
  {
   "cell_type": "markdown",
   "metadata": {},
   "source": [
    "For this tutorial, we will use a standard dataset that does not require much preprocessing. This is to keep things as simple as possible. We can focus on these things in a later session. Input preprocessing tends to be different for each network you create, and loss functions will be discussed when we cover the the training process in greater depth."
   ]
  },
  {
   "cell_type": "markdown",
   "metadata": {},
   "source": [
    "#### Imports"
   ]
  },
  {
   "cell_type": "code",
   "execution_count": 198,
   "metadata": {},
   "outputs": [],
   "source": [
    "import numpy as np\n",
    "from sklearn.datasets import load_boston\n",
    "from sklearn.model_selection import train_test_split\n",
    "from sklearn.metrics import r2_score\n",
    "\n",
    "import pandas as pd\n",
    "\n",
    "import matplotlib.pyplot as plt\n",
    "import seaborn as sns\n",
    "%matplotlib inline\n",
    "\n",
    "import warnings\n",
    "warnings.filterwarnings(\"ignore\")"
   ]
  },
  {
   "cell_type": "markdown",
   "metadata": {},
   "source": [
    "### Implement a purely linear network\n",
    "\n",
    "Neural networks devoid of non-linear funcitons can, at best, model linear functions. For a  "
   ]
  },
  {
   "cell_type": "markdown",
   "metadata": {},
   "source": [
    "#### Define a few helper functions"
   ]
  },
  {
   "cell_type": "code",
   "execution_count": 10,
   "metadata": {},
   "outputs": [],
   "source": [
    "def batch_data_gen(batch_size):\n",
    "    \" Generate inputs and outputs in batches \"\n",
    "    xs = np.random.randint(-10, 10, size=[batch_size, 1]).astype(np.float32)\n",
    "    ys = (xs ** 2).astype(np.float32)\n",
    "    return xs, ys\n",
    "\n",
    "def loss_function(pred, targ):\n",
    "    return 0.5 * np.sum((pred - targ)**2)\n",
    "\n",
    "def loss_function_deriv(pred, targ):\n",
    "    return (pred - targ)\n",
    "\n",
    "def logistic(x, use=True, deriv=False):\n",
    "    if use:\n",
    "        if deriv is True:\n",
    "            return x * (1 - x)\n",
    "        return 1./(1. + np.exp(-x))\n",
    "    else:\n",
    "        return x if deriv is False else 1 #return 1 if computing the deriv (same as removing)\n",
    "\n",
    "def predict(x, use_nonlinearity, hidden_weights, output_weights, hidden_bias, output_bias):\n",
    "    out = logistic(np.dot(x, hidden_weights) + hidden_bias, use=use_nonlinearity)\n",
    "    pred = np.dot(out, output_weights) + output_bias\n",
    "    return pred"
   ]
  },
  {
   "cell_type": "markdown",
   "metadata": {},
   "source": [
    "#### Fit the data to approximate $f(x) = x^2$ using a linear network\n",
    "\n",
    "We can flip the 'use' switch in the logistic function and its derivative to see what happens when we have non-linearities in the network vs not having non-linearities."
   ]
  },
  {
   "cell_type": "code",
   "execution_count": null,
   "metadata": {},
   "outputs": [],
   "source": [
    "lr = 0.0001\n",
    "num_iterations = 15000\n",
    "n_input_features = 1\n",
    "hidden_size = 32\n",
    "batch_size = 25\n",
    "samples_seen = 0\n",
    "progress = list()\n",
    "\n",
    "use_nonlinearity = False\n",
    "\n",
    "# Set learnable weight matrices\n",
    "hidden_weights = np.random.normal(loc=0.0, scale=0.01, size=(n_input_features, hidden_size))\n",
    "hidden_bias = np.zeros((1, hidden_size))\n",
    "\n",
    "output_weights = np.random.normal(loc=0.0, scale=0.01, size=(hidden_size, 1))  # a single output!\n",
    "output_bias = np.zeros((1, 1))\n",
    "\n",
    "losses = list()\n",
    "\n",
    "# Train the network\n",
    "for _ in range(num_iterations):\n",
    "    xs, ys = batch_data_gen(batch_size)\n",
    "    samples_seen += 1 * batch_size\n",
    "\n",
    "    # Forward Pass\n",
    "    hidden_layer_out = logistic(np.dot(xs, hidden_weights) + hidden_bias, use=use_nonlinearity)\n",
    "    pred = np.dot(hidden_layer_out, output_weights) + output_bias\n",
    "\n",
    "    # error\n",
    "    err = loss_function(pred, ys)\n",
    "    losses.append(np.sum(err))\n",
    "\n",
    "    # backprop\n",
    "    out_delta = loss_function_deriv(pred, ys) # pred - ys\n",
    "    hidden_delta = np.dot(out_delta, output_weights.T) * logistic(hidden_layer_out, use=use_nonlinearity, deriv=True)\n",
    "\n",
    "    # gradient descent - use minus-equals due to order of (pred - ys), if switched (ys - pred), use plus-equals\n",
    "    output_weights -= np.dot(hidden_layer_out.T, out_delta) * lr\n",
    "    output_bias -= np.sum(out_delta, axis=0) * lr\n",
    "\n",
    "    hidden_weights -= np.dot(xs.T, hidden_delta) * lr\n",
    "    hidden_bias -= np.sum(hidden_delta, axis=0) * lr\n",
    "\n",
    "    if _ % 500 == 0:\n",
    "        print(f\"Current batch loss: {round(losses[-1], 2)} ... samples seen: {samples_seen}\")\n",
    "        x = np.linspace(-9, 9, 30).reshape(-1, 1)\n",
    "        progress.append(predict(x, use_nonlinearity, hidden_weights, output_weights, hidden_bias, output_bias))\n",
    "\n",
    "# Print out a cool plot of the learning progress\n",
    "x = np.linspace(-9, 9, 30).reshape(-1, 1)\n",
    "fig, axes = plt.subplots(ncols=5, nrows=3, figsize=(15,12))\n",
    "step = 0\n",
    "for out, ax, los in zip(progress, axes.flatten(), losses):\n",
    "    ax.plot(x, x **2, alpha=0.3)\n",
    "    ax.scatter(x, out)\n",
    "    ax.set_title('Step: {}\\nloss: {}'.format(str(step), str(round(los, 2))))\n",
    "    step += 1000\n",
    "plt.tight_layout()"
   ]
  },
  {
   "cell_type": "markdown",
   "metadata": {},
   "source": [
    "## Use a neural network to approximate a regression function that predicts housing prices"
   ]
  },
  {
   "cell_type": "markdown",
   "metadata": {},
   "source": [
    "#### Load the dataset\n",
    "\n",
    "For this network, we'll use the Boston housing dataset. The goal for this dataset is to learn a model that helps us predict the median market value of the house based on features gathered associated with the property. This is ideal for a simple neural network since we want to use a simple loss function. Since we're predicting a price, we can frame this as a regression problem and use a sum of squares loss function."
   ]
  },
  {
   "cell_type": "code",
   "execution_count": 2,
   "metadata": {},
   "outputs": [],
   "source": [
    "boston = load_boston(return_X_y=False)"
   ]
  },
  {
   "cell_type": "code",
   "execution_count": 3,
   "metadata": {},
   "outputs": [
    {
     "name": "stdout",
     "output_type": "stream",
     "text": [
      "Boston House Prices dataset\n",
      "===========================\n",
      "\n",
      "Notes\n",
      "------\n",
      "Data Set Characteristics:  \n",
      "\n",
      "    :Number of Instances: 506 \n",
      "\n",
      "    :Number of Attributes: 13 numeric/categorical predictive\n",
      "    \n",
      "    :Median Value (attribute 14) is usually the target\n",
      "\n",
      "    :Attribute Information (in order):\n",
      "        - CRIM     per capita crime rate by town\n",
      "        - ZN       proportion of residential land zoned for lots over 25,000 sq.ft.\n",
      "        - INDUS    proportion of non-retail business acres per town\n",
      "        - CHAS     Charles River dummy variable (= 1 if tract bounds river; 0 otherwise)\n",
      "        - NOX      nitric oxides concentration (parts per 10 million)\n",
      "        - RM       average number of rooms per dwelling\n",
      "        - AGE      proportion of owner-occupied units built prior to 1940\n",
      "        - DIS      weighted distances to five Boston employment centres\n",
      "        - RAD      index of accessibility to radial highways\n",
      "        - TAX      full-value property-tax rate per $10,000\n",
      "        - PTRATIO  pupil-teacher ratio by town\n",
      "        - B        1000(Bk - 0.63)^2 where Bk is the proportion of blacks by town\n",
      "        - LSTAT    % lower status of the population\n",
      "        - MEDV     Median value of owner-occupied homes in $1000's\n",
      "\n",
      "    :Missing Attribute Values: None\n",
      "\n",
      "    :Creator: Harrison, D. and Rubinfeld, D.L.\n",
      "\n",
      "This is a copy of UCI ML housing dataset.\n",
      "http://archive.ics.uci.edu/ml/datasets/Housing\n",
      "\n",
      "\n",
      "This dataset was taken from the StatLib library which is maintained at Carnegie Mellon University.\n",
      "\n",
      "The Boston house-price data of Harrison, D. and Rubinfeld, D.L. 'Hedonic\n",
      "prices and the demand for clean air', J. Environ. Economics & Management,\n",
      "vol.5, 81-102, 1978.   Used in Belsley, Kuh & Welsch, 'Regression diagnostics\n",
      "...', Wiley, 1980.   N.B. Various transformations are used in the table on\n",
      "pages 244-261 of the latter.\n",
      "\n",
      "The Boston house-price data has been used in many machine learning papers that address regression\n",
      "problems.   \n",
      "     \n",
      "**References**\n",
      "\n",
      "   - Belsley, Kuh & Welsch, 'Regression diagnostics: Identifying Influential Data and Sources of Collinearity', Wiley, 1980. 244-261.\n",
      "   - Quinlan,R. (1993). Combining Instance-Based and Model-Based Learning. In Proceedings on the Tenth International Conference of Machine Learning, 236-243, University of Massachusetts, Amherst. Morgan Kaufmann.\n",
      "   - many more! (see http://archive.ics.uci.edu/ml/datasets/Housing)\n",
      "\n"
     ]
    }
   ],
   "source": [
    "print(boston.DESCR)"
   ]
  },
  {
   "cell_type": "markdown",
   "metadata": {},
   "source": [
    "#### Note for those who are wondering about the race based feature\n",
    "This appears to be a controversial feature related to race in the context of a toy dataset where we would like to perform regression. The original purpose of this feature was to rule out race as a confounding factor in the original study. For perspective on both sides of the debate as to whether or not this should be included, you can follow up by reading: https://mail.python.org/pipermail/scikit-learn/2017-July/001683.html\n",
    "\n",
    "Since this tutorial does not require this feature, we will exclude it."
   ]
  },
  {
   "cell_type": "markdown",
   "metadata": {},
   "source": [
    "#### Visualize the data"
   ]
  },
  {
   "cell_type": "code",
   "execution_count": 4,
   "metadata": {},
   "outputs": [
    {
     "data": {
      "text/plain": [
       "array([[6.3200e-03, 1.8000e+01, 2.3100e+00, ..., 1.5300e+01, 3.9690e+02,\n",
       "        4.9800e+00],\n",
       "       [2.7310e-02, 0.0000e+00, 7.0700e+00, ..., 1.7800e+01, 3.9690e+02,\n",
       "        9.1400e+00],\n",
       "       [2.7290e-02, 0.0000e+00, 7.0700e+00, ..., 1.7800e+01, 3.9283e+02,\n",
       "        4.0300e+00],\n",
       "       ...,\n",
       "       [6.0760e-02, 0.0000e+00, 1.1930e+01, ..., 2.1000e+01, 3.9690e+02,\n",
       "        5.6400e+00],\n",
       "       [1.0959e-01, 0.0000e+00, 1.1930e+01, ..., 2.1000e+01, 3.9345e+02,\n",
       "        6.4800e+00],\n",
       "       [4.7410e-02, 0.0000e+00, 1.1930e+01, ..., 2.1000e+01, 3.9690e+02,\n",
       "        7.8800e+00]])"
      ]
     },
     "execution_count": 4,
     "metadata": {},
     "output_type": "execute_result"
    }
   ],
   "source": [
    "boston.data"
   ]
  },
  {
   "cell_type": "code",
   "execution_count": 5,
   "metadata": {},
   "outputs": [
    {
     "data": {
      "text/plain": [
       "array([24. , 21.6, 34.7, 33.4, 36.2, 28.7, 22.9, 27.1, 16.5, 18.9, 15. ,\n",
       "       18.9, 21.7, 20.4, 18.2, 19.9, 23.1, 17.5, 20.2, 18.2, 13.6, 19.6,\n",
       "       15.2, 14.5, 15.6, 13.9, 16.6, 14.8, 18.4, 21. , 12.7, 14.5, 13.2,\n",
       "       13.1, 13.5, 18.9, 20. , 21. , 24.7, 30.8, 34.9, 26.6, 25.3, 24.7,\n",
       "       21.2, 19.3, 20. , 16.6, 14.4, 19.4, 19.7, 20.5, 25. , 23.4, 18.9,\n",
       "       35.4, 24.7, 31.6, 23.3, 19.6, 18.7, 16. , 22.2, 25. , 33. , 23.5,\n",
       "       19.4, 22. , 17.4, 20.9, 24.2, 21.7, 22.8, 23.4, 24.1, 21.4, 20. ,\n",
       "       20.8, 21.2, 20.3, 28. , 23.9, 24.8, 22.9, 23.9, 26.6, 22.5, 22.2,\n",
       "       23.6, 28.7, 22.6, 22. , 22.9, 25. , 20.6, 28.4, 21.4, 38.7, 43.8,\n",
       "       33.2, 27.5, 26.5, 18.6, 19.3, 20.1, 19.5, 19.5, 20.4, 19.8, 19.4,\n",
       "       21.7, 22.8, 18.8, 18.7, 18.5, 18.3, 21.2, 19.2, 20.4, 19.3, 22. ,\n",
       "       20.3, 20.5, 17.3, 18.8, 21.4, 15.7, 16.2, 18. , 14.3, 19.2, 19.6,\n",
       "       23. , 18.4, 15.6, 18.1, 17.4, 17.1, 13.3, 17.8, 14. , 14.4, 13.4,\n",
       "       15.6, 11.8, 13.8, 15.6, 14.6, 17.8, 15.4, 21.5, 19.6, 15.3, 19.4,\n",
       "       17. , 15.6, 13.1, 41.3, 24.3, 23.3, 27. , 50. , 50. , 50. , 22.7,\n",
       "       25. , 50. , 23.8, 23.8, 22.3, 17.4, 19.1, 23.1, 23.6, 22.6, 29.4,\n",
       "       23.2, 24.6, 29.9, 37.2, 39.8, 36.2, 37.9, 32.5, 26.4, 29.6, 50. ,\n",
       "       32. , 29.8, 34.9, 37. , 30.5, 36.4, 31.1, 29.1, 50. , 33.3, 30.3,\n",
       "       34.6, 34.9, 32.9, 24.1, 42.3, 48.5, 50. , 22.6, 24.4, 22.5, 24.4,\n",
       "       20. , 21.7, 19.3, 22.4, 28.1, 23.7, 25. , 23.3, 28.7, 21.5, 23. ,\n",
       "       26.7, 21.7, 27.5, 30.1, 44.8, 50. , 37.6, 31.6, 46.7, 31.5, 24.3,\n",
       "       31.7, 41.7, 48.3, 29. , 24. , 25.1, 31.5, 23.7, 23.3, 22. , 20.1,\n",
       "       22.2, 23.7, 17.6, 18.5, 24.3, 20.5, 24.5, 26.2, 24.4, 24.8, 29.6,\n",
       "       42.8, 21.9, 20.9, 44. , 50. , 36. , 30.1, 33.8, 43.1, 48.8, 31. ,\n",
       "       36.5, 22.8, 30.7, 50. , 43.5, 20.7, 21.1, 25.2, 24.4, 35.2, 32.4,\n",
       "       32. , 33.2, 33.1, 29.1, 35.1, 45.4, 35.4, 46. , 50. , 32.2, 22. ,\n",
       "       20.1, 23.2, 22.3, 24.8, 28.5, 37.3, 27.9, 23.9, 21.7, 28.6, 27.1,\n",
       "       20.3, 22.5, 29. , 24.8, 22. , 26.4, 33.1, 36.1, 28.4, 33.4, 28.2,\n",
       "       22.8, 20.3, 16.1, 22.1, 19.4, 21.6, 23.8, 16.2, 17.8, 19.8, 23.1,\n",
       "       21. , 23.8, 23.1, 20.4, 18.5, 25. , 24.6, 23. , 22.2, 19.3, 22.6,\n",
       "       19.8, 17.1, 19.4, 22.2, 20.7, 21.1, 19.5, 18.5, 20.6, 19. , 18.7,\n",
       "       32.7, 16.5, 23.9, 31.2, 17.5, 17.2, 23.1, 24.5, 26.6, 22.9, 24.1,\n",
       "       18.6, 30.1, 18.2, 20.6, 17.8, 21.7, 22.7, 22.6, 25. , 19.9, 20.8,\n",
       "       16.8, 21.9, 27.5, 21.9, 23.1, 50. , 50. , 50. , 50. , 50. , 13.8,\n",
       "       13.8, 15. , 13.9, 13.3, 13.1, 10.2, 10.4, 10.9, 11.3, 12.3,  8.8,\n",
       "        7.2, 10.5,  7.4, 10.2, 11.5, 15.1, 23.2,  9.7, 13.8, 12.7, 13.1,\n",
       "       12.5,  8.5,  5. ,  6.3,  5.6,  7.2, 12.1,  8.3,  8.5,  5. , 11.9,\n",
       "       27.9, 17.2, 27.5, 15. , 17.2, 17.9, 16.3,  7. ,  7.2,  7.5, 10.4,\n",
       "        8.8,  8.4, 16.7, 14.2, 20.8, 13.4, 11.7,  8.3, 10.2, 10.9, 11. ,\n",
       "        9.5, 14.5, 14.1, 16.1, 14.3, 11.7, 13.4,  9.6,  8.7,  8.4, 12.8,\n",
       "       10.5, 17.1, 18.4, 15.4, 10.8, 11.8, 14.9, 12.6, 14.1, 13. , 13.4,\n",
       "       15.2, 16.1, 17.8, 14.9, 14.1, 12.7, 13.5, 14.9, 20. , 16.4, 17.7,\n",
       "       19.5, 20.2, 21.4, 19.9, 19. , 19.1, 19.1, 20.1, 19.9, 19.6, 23.2,\n",
       "       29.8, 13.8, 13.3, 16.7, 12. , 14.6, 21.4, 23. , 23.7, 25. , 21.8,\n",
       "       20.6, 21.2, 19.1, 20.6, 15.2,  7. ,  8.1, 13.6, 20.1, 21.8, 24.5,\n",
       "       23.1, 19.7, 18.3, 21.2, 17.5, 16.8, 22.4, 20.6, 23.9, 22. , 11.9])"
      ]
     },
     "execution_count": 5,
     "metadata": {},
     "output_type": "execute_result"
    }
   ],
   "source": [
    "boston.target"
   ]
  },
  {
   "cell_type": "code",
   "execution_count": 6,
   "metadata": {},
   "outputs": [
    {
     "data": {
      "text/html": [
       "<div>\n",
       "<style scoped>\n",
       "    .dataframe tbody tr th:only-of-type {\n",
       "        vertical-align: middle;\n",
       "    }\n",
       "\n",
       "    .dataframe tbody tr th {\n",
       "        vertical-align: top;\n",
       "    }\n",
       "\n",
       "    .dataframe thead th {\n",
       "        text-align: right;\n",
       "    }\n",
       "</style>\n",
       "<table border=\"1\" class=\"dataframe\">\n",
       "  <thead>\n",
       "    <tr style=\"text-align: right;\">\n",
       "      <th></th>\n",
       "      <th>CRIM</th>\n",
       "      <th>ZN</th>\n",
       "      <th>INDUS</th>\n",
       "      <th>CHAS</th>\n",
       "      <th>NOX</th>\n",
       "      <th>RM</th>\n",
       "      <th>AGE</th>\n",
       "      <th>DIS</th>\n",
       "      <th>RAD</th>\n",
       "      <th>TAX</th>\n",
       "      <th>PTRATIO</th>\n",
       "      <th>LSTAT</th>\n",
       "      <th>target</th>\n",
       "    </tr>\n",
       "  </thead>\n",
       "  <tbody>\n",
       "    <tr>\n",
       "      <th>0</th>\n",
       "      <td>0.00632</td>\n",
       "      <td>18.0</td>\n",
       "      <td>2.31</td>\n",
       "      <td>0.0</td>\n",
       "      <td>0.538</td>\n",
       "      <td>6.575</td>\n",
       "      <td>65.2</td>\n",
       "      <td>4.0900</td>\n",
       "      <td>1.0</td>\n",
       "      <td>296.0</td>\n",
       "      <td>15.3</td>\n",
       "      <td>4.98</td>\n",
       "      <td>24.0</td>\n",
       "    </tr>\n",
       "    <tr>\n",
       "      <th>1</th>\n",
       "      <td>0.02731</td>\n",
       "      <td>0.0</td>\n",
       "      <td>7.07</td>\n",
       "      <td>0.0</td>\n",
       "      <td>0.469</td>\n",
       "      <td>6.421</td>\n",
       "      <td>78.9</td>\n",
       "      <td>4.9671</td>\n",
       "      <td>2.0</td>\n",
       "      <td>242.0</td>\n",
       "      <td>17.8</td>\n",
       "      <td>9.14</td>\n",
       "      <td>21.6</td>\n",
       "    </tr>\n",
       "    <tr>\n",
       "      <th>2</th>\n",
       "      <td>0.02729</td>\n",
       "      <td>0.0</td>\n",
       "      <td>7.07</td>\n",
       "      <td>0.0</td>\n",
       "      <td>0.469</td>\n",
       "      <td>7.185</td>\n",
       "      <td>61.1</td>\n",
       "      <td>4.9671</td>\n",
       "      <td>2.0</td>\n",
       "      <td>242.0</td>\n",
       "      <td>17.8</td>\n",
       "      <td>4.03</td>\n",
       "      <td>34.7</td>\n",
       "    </tr>\n",
       "    <tr>\n",
       "      <th>3</th>\n",
       "      <td>0.03237</td>\n",
       "      <td>0.0</td>\n",
       "      <td>2.18</td>\n",
       "      <td>0.0</td>\n",
       "      <td>0.458</td>\n",
       "      <td>6.998</td>\n",
       "      <td>45.8</td>\n",
       "      <td>6.0622</td>\n",
       "      <td>3.0</td>\n",
       "      <td>222.0</td>\n",
       "      <td>18.7</td>\n",
       "      <td>2.94</td>\n",
       "      <td>33.4</td>\n",
       "    </tr>\n",
       "    <tr>\n",
       "      <th>4</th>\n",
       "      <td>0.06905</td>\n",
       "      <td>0.0</td>\n",
       "      <td>2.18</td>\n",
       "      <td>0.0</td>\n",
       "      <td>0.458</td>\n",
       "      <td>7.147</td>\n",
       "      <td>54.2</td>\n",
       "      <td>6.0622</td>\n",
       "      <td>3.0</td>\n",
       "      <td>222.0</td>\n",
       "      <td>18.7</td>\n",
       "      <td>5.33</td>\n",
       "      <td>36.2</td>\n",
       "    </tr>\n",
       "  </tbody>\n",
       "</table>\n",
       "</div>"
      ],
      "text/plain": [
       "      CRIM    ZN  INDUS  CHAS    NOX     RM   AGE     DIS  RAD    TAX  \\\n",
       "0  0.00632  18.0   2.31   0.0  0.538  6.575  65.2  4.0900  1.0  296.0   \n",
       "1  0.02731   0.0   7.07   0.0  0.469  6.421  78.9  4.9671  2.0  242.0   \n",
       "2  0.02729   0.0   7.07   0.0  0.469  7.185  61.1  4.9671  2.0  242.0   \n",
       "3  0.03237   0.0   2.18   0.0  0.458  6.998  45.8  6.0622  3.0  222.0   \n",
       "4  0.06905   0.0   2.18   0.0  0.458  7.147  54.2  6.0622  3.0  222.0   \n",
       "\n",
       "   PTRATIO  LSTAT  target  \n",
       "0     15.3   4.98    24.0  \n",
       "1     17.8   9.14    21.6  \n",
       "2     17.8   4.03    34.7  \n",
       "3     18.7   2.94    33.4  \n",
       "4     18.7   5.33    36.2  "
      ]
     },
     "execution_count": 6,
     "metadata": {},
     "output_type": "execute_result"
    }
   ],
   "source": [
    "df = pd.DataFrame(boston.data, columns=['CRIM', 'ZN', 'INDUS', 'CHAS', 'NOX',\n",
    "                                        'RM', 'AGE', 'DIS', 'RAD', 'TAX', 'PTRATIO',\n",
    "                                        'B', 'LSTAT']).drop('B', axis=1)\n",
    "df.loc[:, 'target'] = boston.target\n",
    "df.head()"
   ]
  },
  {
   "cell_type": "markdown",
   "metadata": {},
   "source": [
    "With any dataset, there is the opportunity to explore the data to find features that are going to likely be the most helpful when training the model. There are a variety of techniques available to do this and it is generally recommended. However, since we're focusing on the network implementation, we'll skip the data exploration for now. "
   ]
  },
  {
   "cell_type": "markdown",
   "metadata": {},
   "source": [
    "#### Define a data batcher\n",
    "When we send data through the network, we can send samples through one at a time or in batches. So it's useful to have a function that handles that for us."
   ]
  },
  {
   "cell_type": "markdown",
   "metadata": {},
   "source": [
    "#### Fit"
   ]
  },
  {
   "cell_type": "code",
   "execution_count": 7,
   "metadata": {},
   "outputs": [],
   "source": [
    "def data_batcher(input_df, batch_size=5):    \n",
    "    \" Create some batches of data for training \"\n",
    "\n",
    "    inputs = input_df.drop('target', axis=1).values\n",
    "    targets = input_df['target'].values\n",
    "\n",
    "    # split_data\n",
    "    X_train, X_test, y_train, y_test = train_test_split(inputs, targets, test_size=0.2, random_state=42)\n",
    "\n",
    "    # reshape to batch dims\n",
    "    train_cutoff = (len(X_train) % batch_size)\n",
    "    test_cutoff = (len(X_test) % batch_size)\n",
    "\n",
    "    train_x_batches = X_train[: -train_cutoff].reshape(-1, batch_size, X_train.shape[1])\n",
    "    train_y_batches = y_train[: -train_cutoff].reshape(-1, batch_size, 1)\n",
    "    test_x_batches  = X_test[ : -test_cutoff].reshape(-1, batch_size, X_test.shape[1])\n",
    "    test_y_batches  = y_test[ : -test_cutoff].reshape(-1, batch_size, 1)\n",
    "    \n",
    "    assert len(train_x_batches) == len(train_y_batches)\n",
    "    assert len(test_x_batches) == len(test_y_batches)\n",
    "    \n",
    "    batched_input_data = zip(train_x_batches, train_y_batches)\n",
    "    batched_test_data = zip(test_x_batches, test_y_batches)\n",
    "\n",
    "    return batched_input_data, batched_test_data"
   ]
  },
  {
   "cell_type": "code",
   "execution_count": 177,
   "metadata": {
    "scrolled": false
   },
   "outputs": [
    {
     "name": "stdout",
     "output_type": "stream",
     "text": [
      "batch_loss: 2269.963904375291\n",
      "batch_loss: 2153.911802755067\n",
      "batch_loss: 1994.3606358332238\n",
      "batch_loss: 1803.0607722645489\n",
      "batch_loss: 1667.3145073215817\n",
      "batch_loss: 1604.4207805180274\n",
      "batch_loss: 1571.9787416332006\n",
      "batch_loss: 1553.0746469917485\n",
      "batch_loss: 1539.5445002274362\n",
      "batch_loss: 1527.7377439593245\n"
     ]
    }
   ],
   "source": [
    "lr = 0.000001\n",
    "n_input_features = 12\n",
    "hidden_size = 128\n",
    "batch_size = 25\n",
    "samples_seen = 0\n",
    "progress = list()\n",
    "epochs = 50\n",
    "\n",
    "epoch_loss = list()\n",
    "eps = list()\n",
    "\n",
    "use_nonlinearity = False\n",
    "\n",
    "# Set learnable weight matrices\n",
    "hidden_weights = np.random.normal(loc=0.0, scale=0.01, size=(n_input_features, hidden_size))\n",
    "hidden_bias = np.zeros((1, hidden_size))\n",
    "\n",
    "output_weights = np.random.normal(loc=0.0, scale=0.01, size=(hidden_size, 1))  # a single output!\n",
    "output_bias = np.zeros((1, 1))\n",
    "\n",
    "# Train the network - need epochs to go through data multiple times\n",
    "for each_epoch in range(epochs):\n",
    "\n",
    "    losses = list()\n",
    "\n",
    "    batched_data, _ = data_batcher(df, batch_size=batch_size)\n",
    "    \n",
    "    for batch_input, batch_target in batched_data:\n",
    "        samples_seen += 1 * batch_size\n",
    "\n",
    "        # Forward Pass\n",
    "        hidden_layer_out = logistic(np.dot(batch_input, hidden_weights) + hidden_bias, use=use_nonlinearity)\n",
    "        pred = np.dot(hidden_layer_out, output_weights) + output_bias\n",
    "\n",
    "        # error\n",
    "        err = loss_function(pred, batch_target)\n",
    "        losses.append(np.sum(err))\n",
    "\n",
    "        # backprop\n",
    "        out_delta = loss_function_deriv(pred, batch_target) # pred - ys\n",
    "        hidden_delta = np.dot(out_delta, output_weights.T) * logistic(hidden_layer_out, use=use_nonlinearity, deriv=True)\n",
    "\n",
    "        # gradient descent - use minus-equals due to order of (pred - ys), if switched (ys - pred), use plus-equals\n",
    "        output_weights -= np.dot(hidden_layer_out.T, out_delta) * lr\n",
    "        output_bias -= np.sum(out_delta, axis=0) * lr\n",
    "\n",
    "        hidden_weights -= np.dot(batch_input.T, hidden_delta) * lr\n",
    "        hidden_bias -= np.sum(hidden_delta, axis=0) * lr\n",
    "\n",
    "    if each_epoch % 5 == 0:\n",
    "        print('batch_loss: {}'.format(loss_function(pred, batch_target)))\n",
    "\n",
    "    if each_epoch % 1 == 0:\n",
    "        epoch_loss.append(loss_function(pred, batch_target))\n",
    "        eps.append(each_epoch)"
   ]
  },
  {
   "cell_type": "code",
   "execution_count": 178,
   "metadata": {},
   "outputs": [
    {
     "data": {
      "text/plain": [
       "(0, 50)"
      ]
     },
     "execution_count": 178,
     "metadata": {},
     "output_type": "execute_result"
    },
    {
     "data": {
      "image/png": "[encoded data removed]",
      "text/plain": [
       "<Figure size 432x288 with 1 Axes>"
      ]
     },
     "metadata": {},
     "output_type": "display_data"
    }
   ],
   "source": [
    "plt.plot(eps, epoch_loss)\n",
    "plt.xlabel('step'), plt.ylabel('loss'), plt.title(\"Loss\");\n",
    "# plt.ylim((0, 50000))\n",
    "plt.xlim((0, 50))"
   ]
  },
  {
   "cell_type": "markdown",
   "metadata": {},
   "source": [
    "#### Test"
   ]
  },
  {
   "cell_type": "code",
   "execution_count": 179,
   "metadata": {},
   "outputs": [
    {
     "name": "stdout",
     "output_type": "stream",
     "text": [
      "Average sample error: 1155.630528697192\n"
     ]
    }
   ],
   "source": [
    "test_error = list()\n",
    "residuals = list()\n",
    "y_true = list()\n",
    "predictions = list()\n",
    "_, batched_test_data = data_batcher(df, batch_size=batch_size)\n",
    "\n",
    "for x, y in batched_test_data:\n",
    "    y_true.append(y)\n",
    "    prediction = predict(x, use_nonlinearity, hidden_weights, output_weights, hidden_bias, output_bias)\n",
    "    predictions.append(prediction)\n",
    "    test_error.append(loss_function(prediction, y))\n",
    "\n",
    "print('Average sample error: {}'.format(np.mean(np.vstack(test_error))))"
   ]
  },
  {
   "cell_type": "markdown",
   "metadata": {},
   "source": [
    "#### Residuals"
   ]
  },
  {
   "cell_type": "code",
   "execution_count": 180,
   "metadata": {},
   "outputs": [
    {
     "data": {
      "image/png": "[encoded data removed]",
      "text/plain": [
       "<Figure size 432x288 with 1 Axes>"
      ]
     },
     "metadata": {},
     "output_type": "display_data"
    }
   ],
   "source": [
    "plt.scatter(np.vstack(y_true), np.vstack(y_true) - np.vstack(predictions))\n",
    "plt.axhline(0);\n",
    "plt.axvline(0);"
   ]
  },
  {
   "cell_type": "markdown",
   "metadata": {},
   "source": [
    "#### $R^2$ result"
   ]
  },
  {
   "cell_type": "code",
   "execution_count": 160,
   "metadata": {},
   "outputs": [
    {
     "data": {
      "text/plain": [
       "-0.22983284666943016"
      ]
     },
     "execution_count": 160,
     "metadata": {},
     "output_type": "execute_result"
    }
   ],
   "source": [
    "r2_score(np.vstack(y_true), np.vstack(predictions))"
   ]
  },
  {
   "cell_type": "markdown",
   "metadata": {},
   "source": [
    "## Visualizing the weights of the network"
   ]
  },
  {
   "cell_type": "code",
   "execution_count": 199,
   "metadata": {},
   "outputs": [
    {
     "data": {
      "image/png": "[encoded data removed]",
      "text/plain": [
       "<Figure size 1296x864 with 4 Axes>"
      ]
     },
     "metadata": {},
     "output_type": "display_data"
    }
   ],
   "source": [
    "layers = [hidden_weights, output_weights,\n",
    "          hidden_weights.flatten(), output_weights.flatten()]\n",
    "\n",
    "fig, axs = plt.subplots(figsize=(18, 12), nrows=2, ncols=2)\n",
    "bar = False\n",
    "for ix, (layer, ax) in enumerate(zip(layers, axs.flatten())):\n",
    "    if ix < 2:\n",
    "        if ix == 2:\n",
    "            bar = True\n",
    "        sns.heatmap(layer, ax=ax, cbar=bar)\n",
    "        ax.set_title('layer {} weights'.format(ix+1), fontdict={'fontsize': 18})\n",
    "    else:\n",
    "        sns.distplot(layer, ax=ax);"
   ]
  },
  {
   "cell_type": "markdown",
   "metadata": {},
   "source": [
    "### Implement with Keras"
   ]
  },
  {
   "cell_type": "code",
   "execution_count": 218,
   "metadata": {},
   "outputs": [],
   "source": [
    "from keras.models import Sequential\n",
    "from keras.layers import Dense, Activation\n",
    "import tensorflow as tf"
   ]
  },
  {
   "cell_type": "code",
   "execution_count": 239,
   "metadata": {},
   "outputs": [],
   "source": [
    "tf.reset_default_graph()\n",
    "model = Sequential()\n",
    "model.add(Dense(32, input_dim=12, activation='relu', use_bias=True))\n",
    "model.add(Dense(1))\n",
    "model.compile(optimizer='rmsprop',\n",
    "              loss='mean_squared_error',\n",
    "              metrics=['acc'])"
   ]
  },
  {
   "cell_type": "code",
   "execution_count": 240,
   "metadata": {},
   "outputs": [
    {
     "name": "stdout",
     "output_type": "stream",
     "text": [
      "_________________________________________________________________\n",
      "Layer (type)                 Output Shape              Param #   \n",
      "=================================================================\n",
      "dense_1 (Dense)              (None, 32)                416       \n",
      "_________________________________________________________________\n",
      "dense_2 (Dense)              (None, 1)                 33        \n",
      "=================================================================\n",
      "Total params: 449\n",
      "Trainable params: 449\n",
      "Non-trainable params: 0\n",
      "_________________________________________________________________\n"
     ]
    }
   ],
   "source": [
    "model.summary()"
   ]
  },
  {
   "cell_type": "code",
   "execution_count": 242,
   "metadata": {},
   "outputs": [
    {
     "name": "stdout",
     "output_type": "stream",
     "text": [
      "Epoch 1/20\n",
      "506/506 [==============================] - 0s 31us/step - loss: 47.0383 - acc: 0.0059\n",
      "Epoch 2/20\n",
      "506/506 [==============================] - 0s 27us/step - loss: 48.3396 - acc: 0.0079\n",
      "Epoch 3/20\n",
      "506/506 [==============================] - 0s 25us/step - loss: 47.6739 - acc: 0.0059\n",
      "Epoch 4/20\n",
      "506/506 [==============================] - 0s 26us/step - loss: 45.7154 - acc: 0.0138\n",
      "Epoch 5/20\n",
      "506/506 [==============================] - 0s 25us/step - loss: 48.9154 - acc: 0.0059\n",
      "Epoch 6/20\n",
      "506/506 [==============================] - 0s 24us/step - loss: 45.9988 - acc: 0.0099\n",
      "Epoch 7/20\n",
      "506/506 [==============================] - 0s 29us/step - loss: 47.2582 - acc: 0.0040\n",
      "Epoch 8/20\n",
      "506/506 [==============================] - 0s 24us/step - loss: 43.3609 - acc: 0.0119\n",
      "Epoch 9/20\n",
      "506/506 [==============================] - 0s 26us/step - loss: 46.3190 - acc: 0.0079\n",
      "Epoch 10/20\n",
      "506/506 [==============================] - 0s 24us/step - loss: 44.6985 - acc: 0.0119\n",
      "Epoch 11/20\n",
      "506/506 [==============================] - 0s 23us/step - loss: 46.2752 - acc: 0.0138\n",
      "Epoch 12/20\n",
      "506/506 [==============================] - 0s 32us/step - loss: 43.0727 - acc: 0.0040\n",
      "Epoch 13/20\n",
      "506/506 [==============================] - 0s 26us/step - loss: 45.4800 - acc: 0.0119\n",
      "Epoch 14/20\n",
      "506/506 [==============================] - 0s 26us/step - loss: 48.7606 - acc: 0.0020\n",
      "Epoch 15/20\n",
      "506/506 [==============================] - 0s 26us/step - loss: 43.5948 - acc: 0.0119\n",
      "Epoch 16/20\n",
      "506/506 [==============================] - 0s 27us/step - loss: 48.1396 - acc: 0.0059\n",
      "Epoch 17/20\n",
      "506/506 [==============================] - 0s 22us/step - loss: 42.2471 - acc: 0.0178\n",
      "Epoch 18/20\n",
      "506/506 [==============================] - 0s 25us/step - loss: 42.7643 - acc: 0.0059\n",
      "Epoch 19/20\n",
      "506/506 [==============================] - 0s 25us/step - loss: 46.3862 - acc: 0.0099\n",
      "Epoch 20/20\n",
      "506/506 [==============================] - 0s 27us/step - loss: 42.8137 - acc: 0.0079\n"
     ]
    }
   ],
   "source": [
    "model.fit(df.drop('target', axis=1), df['target'], epochs=20);"
   ]
  },
  {
   "cell_type": "markdown",
   "metadata": {},
   "source": [
    "# Summary"
   ]
  },
  {
   "cell_type": "markdown",
   "metadata": {},
   "source": [
    "There is a quite a bit we can do to improve the results we obtained in this tutorial, and we've covered only some of most basic techniques involved with implementing a neural network from scratch.\n",
    "\n",
    "Ideas to explore are:\n",
    " - normalizing the data during preprocessing\n",
    " - the consequence of using different types of activation functions\n",
    " - activation function saturation (see optimization notebook)\n",
    " - unwanted variable correlation (linear dependance across columns)"
   ]
  }
 ],
 "metadata": {
  "kernelspec": {
   "display_name": "Python 3",
   "language": "python",
   "name": "python3"
  },
  "language_info": {
   "codemirror_mode": {
    "name": "ipython",
    "version": 3
   },
   "file_extension": ".py",
   "mimetype": "text/x-python",
   "name": "python",
   "nbconvert_exporter": "python",
   "pygments_lexer": "ipython3",
   "version": "3.6.2"
  }
 },
 "nbformat": 4,
 "nbformat_minor": 2
}
