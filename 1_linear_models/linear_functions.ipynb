{
 "cells": [
  {
   "cell_type": "markdown",
   "metadata": {},
   "source": [
    "# Introduction to the maths of a neural network \n",
    "\n",
    "\n",
    "#### What even IS a neural network? What does it do?\n",
    "A functions is a thing that maps an input to an output. It takes an input, perfoms some operation on it, potentially transforms it in some way, and then returns an output. We typically define functions explicitly. Explicitely defined functions have a very clear and predictable mapping from input to output.\n",
    "\n",
    "So what if we have a set of inputs and a known set of outputs, but we don't actually know how to define the function that maps them together? Perhaps this function is extremely complicated and it is either unfeasible, or perhaps untractable, to formulate. This is where we can turn to neural networks for help.\n",
    "\n",
    "Neural networks are function approximators. This means that they all boil down to (a thing) that maps an input to an output. The only difference is that we don't specify the function. We learn it over time. This mapping can be between anything that A) can be represented as a number and B) carries a signal. \n",
    "\n",
    "There is some necessary background for understanding simple neural networks. Neural networks are executed using linear algebra operations, so we'll cover the bare minimum here on what those operations are."
   ]
  },
  {
   "cell_type": "markdown",
   "metadata": {},
   "source": [
    "#### References\n",
    " - http://zmjones.com/static/statistical-learning/hornik-nn-1991.pdf\n",
    " - Bishop: p.137: http://users.isr.ist.utl.pt/~wurmd/Livros/school/Bishop%20-%20Pattern%20Recognition%20And%20Machine%20Learning%20-%20Springer%20%202006.pdf"
   ]
  },
  {
   "cell_type": "code",
   "execution_count": 2,
   "metadata": {},
   "outputs": [],
   "source": [
    "import numpy as np\n",
    "import matplotlib.pyplot as plt\n",
    "import seaborn as sns\n",
    "\n",
    "%matplotlib inline"
   ]
  },
  {
   "cell_type": "markdown",
   "metadata": {},
   "source": [
    "## The simplest linear function.\n",
    "\n",
    "You can think of a linear function as a funciton that returns a linear combination of its inputs. \n",
    "\n",
    "\n",
    "We are all familiar with the most simple limple linear function:\n",
    "\n",
    "$$ y = m * X+ b $$\n",
    "\n",
    " - b is the bias term (sometimes written as c or some other letter)\n",
    " - m is usually thought of as the slope\n",
    " - X is the independant variable\n",
    " - y is the dependant variable"
   ]
  },
  {
   "cell_type": "code",
   "execution_count": 12,
   "metadata": {},
   "outputs": [],
   "source": [
    "x = 10\n",
    "m = 0.5\n",
    "b = 2"
   ]
  },
  {
   "cell_type": "code",
   "execution_count": 13,
   "metadata": {},
   "outputs": [],
   "source": [
    "y = m*x + b"
   ]
  },
  {
   "cell_type": "code",
   "execution_count": 14,
   "metadata": {},
   "outputs": [
    {
     "data": {
      "text/plain": [
       "7.0"
      ]
     },
     "execution_count": 14,
     "metadata": {},
     "output_type": "execute_result"
    }
   ],
   "source": [
    "y"
   ]
  },
  {
   "cell_type": "code",
   "execution_count": 116,
   "metadata": {},
   "outputs": [
    {
     "data": {
      "image/png": "[encoded data removed]",
      "text/plain": [
       "<Figure size 432x288 with 1 Axes>"
      ]
     },
     "metadata": {},
     "output_type": "display_data"
    }
   ],
   "source": [
    "x = list(range(-25, 25))\n",
    "def func(xs, m, b):\n",
    "    assert type(x) == list\n",
    "    return [m * x + b for x in xs]\n",
    "\n",
    "ys = func(x, m, b)\n",
    "\n",
    "#-------------------------------------\n",
    "plt.plot(list(x), ys)\n",
    "plt.axhline(0, linestyle='--')\n",
    "plt.axvline(0, linestyle='--')\n",
    "plt.grid(True, alpha=0.3)\n",
    "plt.xlim((-20, 20))\n",
    "plt.ylim((-20, 20));"
   ]
  },
  {
   "cell_type": "markdown",
   "metadata": {},
   "source": [
    "## A less simple linear function\n",
    "\n",
    "We can add (linear) terms to our linear function to get a more complex model.\n",
    "\n",
    "$$y(x, w) = (w_1*x_1) + (w_2*x_2) + ... + (w_D * x_D) + b$$\n",
    "\n",
    "\n",
    "These terms are 'linear' because they represent points that are scaled along a straight line according to $w$, which is referred to as the coefficient.\n",
    "\n",
    "Previously, we only had a single term, so we could perform this operation manually. However, once we begin adding terms, this multiplication and addition becomes rather tedious."
   ]
  },
  {
   "cell_type": "code",
   "execution_count": 29,
   "metadata": {},
   "outputs": [],
   "source": [
    "# We could do this:\n",
    "def bad_func(x1, x2, x3, w1, w2, w3):\n",
    "    y = x1 * w1 + x2 * w2 + x3 * w3\n",
    "    return y\n",
    "\n",
    "# Or we could be more clever and do this\n",
    "def still_bad_func(xs, ws):\n",
    "    y = sum([x * w for x, w in zip(xs, ws)])\n",
    "    return y"
   ]
  },
  {
   "cell_type": "code",
   "execution_count": 30,
   "metadata": {},
   "outputs": [
    {
     "data": {
      "text/plain": [
       "9.2"
      ]
     },
     "execution_count": 30,
     "metadata": {},
     "output_type": "execute_result"
    }
   ],
   "source": [
    "y = bad_func(2, 2, 4, 0.1, 0.5, 2)\n",
    "y"
   ]
  },
  {
   "cell_type": "code",
   "execution_count": 31,
   "metadata": {},
   "outputs": [
    {
     "data": {
      "text/plain": [
       "9.2"
      ]
     },
     "execution_count": 31,
     "metadata": {},
     "output_type": "execute_result"
    }
   ],
   "source": [
    "y = still_bad_func((2, 2, 4), (0.1, 0.5, 2))\n",
    "y"
   ]
  },
  {
   "cell_type": "markdown",
   "metadata": {},
   "source": [
    "## The dot product - quick linear combinations\n",
    "\n",
    "Weren't these two functions tedious? Fortunately, linear algebra provides us with the concept of the dot product, which we can use to perform this linear combination for us."
   ]
  },
  {
   "cell_type": "code",
   "execution_count": 105,
   "metadata": {},
   "outputs": [
    {
     "data": {
      "text/plain": [
       "9.2"
      ]
     },
     "execution_count": 105,
     "metadata": {},
     "output_type": "execute_result"
    }
   ],
   "source": [
    "# We should be really clever and do this:\n",
    "xs = np.array([2, 2, 4]).reshape(-1, 1)\n",
    "ws = np.array([0.1, 0.5, 2]).reshape(-1, 1)\n",
    "\n",
    "y = np.dot(xs.transpose(), ws)\n",
    "float(y)"
   ]
  },
  {
   "cell_type": "markdown",
   "metadata": {},
   "source": [
    "This may not immediately seem more simple, since we've introduced a method called 'transpose'. However, we'll find later that performing a linear combination using `np.dot` genearlizes to matrices, which we will need later when building a neural network."
   ]
  },
  {
   "cell_type": "markdown",
   "metadata": {},
   "source": [
    "**A note on notation:**\n",
    "\n",
    "Formally, vectors are thought of as column vectors, i.e. a matrix with one column and n number of rows (for each element of the vector). So a vector should be represented as a column inside of a 2d structure. Some operations are now not allowed if input vectors do not follow this convention.\n",
    "\n",
    "When you come across certain operations written in mathematical notation, it can be confusion as to what the author means by a particular operation. For example, it is obvious to most people what is mean by:\n",
    "\n",
    "$$x * y$$\n",
    "\n",
    "when x and y are scalars (single numbers). However, it not necessarily obvious to everyone what is meant when x and y are vectors. Especially if the context isn't clear. The notation for this may be written to imply elementwise multiplication:\n",
    "\n",
    "$$[x, y, z] * [x', y', z']$$ \n",
    "\n",
    "or perhaps a linear combination:\n",
    "\n",
    "$$[[x], [y], [z]] * [x', y', z']$$\n",
    "\n",
    "Sometimes you will see this written as:\n",
    "\n",
    "$$xy$$\n",
    "\n",
    "...whereas other times you might see it written as:\n",
    "\n",
    "$$x^Ty$$\n",
    "\n",
    "This is the more formal, and *clear*, way to write a linear combination of vectors. When both vectors are stored as column vectors (the nested lists shown above), then we simply follow the proper notation and transpose the first vector so that the linear combination can be computed. This tranpose must be taken since the linear combination of two column vectors or two row vectors is not defined, as their shapes are not compatible.\n",
    "\n",
    "When we get to matrix operations, the notation can become even more confusion without understanding of the rules associated with vector and matrix operations.\n",
    "\n",
    "if $X, A, B$ are matrices, then it might be difficult to understand what is meant by:\n",
    "\n",
    "$$ABX$$\n",
    "\n",
    "So to avoid unnecessary confusion later and to make remembering whats going on behind the scenes easier, we will follow the convention of always defining arrays as matrices.\n"
   ]
  },
  {
   "cell_type": "markdown",
   "metadata": {},
   "source": [
    "## Systems of linear functions"
   ]
  },
  {
   "cell_type": "markdown",
   "metadata": {},
   "source": [
    "A simple neural network can be built by layering systems of linear functions. To assemble a system of linear equations, we define a matrix. This matrix represents a linear transformation that maps the input to the output.\n",
    "\n",
    "Neural networks are cool because they can approximate any function... almost. If a neural network is simply a system of linear functions, then it can learn a weight matrix that can be used to approximate any linear transformation. In other words, as long as the desired output can be mapped using a linear combination of the inputs, a neural network can model the transformation.\n",
    "\n",
    "Of course, not all problems are actually linear transformations! For example, most natural language processing tasks are not mappings that can be approximated using linear transformation. So for a neural network to approximate linear _and_ non-linear functions, we introduce non-linear activation functions.\n",
    "\n",
    "Regardless of what kind of mapping we are attempting to learn, neural networks still depend on linear combinations of the input.\n",
    "\n",
    "# Linear combinations using matrix multiplication\n",
    "\n",
    "We can compute linear combinations using the dot product. Here we are concerning ourselves with multiplying vectors with matrices, however this can be extended to multiplication between two or more matrices."
   ]
  },
  {
   "cell_type": "code",
   "execution_count": 139,
   "metadata": {},
   "outputs": [],
   "source": [
    "# define a transformation matrix\n",
    "X = np.random.randint(0, 10, size=(3, 6))"
   ]
  },
  {
   "cell_type": "code",
   "execution_count": 140,
   "metadata": {},
   "outputs": [
    {
     "data": {
      "text/plain": [
       "array([[5, 1, 5, 4, 6, 2],\n",
       "       [5, 2, 2, 6, 9, 1],\n",
       "       [5, 2, 8, 0, 0, 6]])"
      ]
     },
     "execution_count": 140,
     "metadata": {},
     "output_type": "execute_result"
    }
   ],
   "source": [
    "X"
   ]
  },
  {
   "cell_type": "code",
   "execution_count": 145,
   "metadata": {},
   "outputs": [
    {
     "data": {
      "text/plain": [
       "(3, 6)"
      ]
     },
     "execution_count": 145,
     "metadata": {},
     "output_type": "execute_result"
    }
   ],
   "source": [
    "X.shape"
   ]
  },
  {
   "cell_type": "code",
   "execution_count": 141,
   "metadata": {},
   "outputs": [],
   "source": [
    "# Define inputs\n",
    "inputs = np.array([5, 3, 8]).reshape(-1, 1)"
   ]
  },
  {
   "cell_type": "code",
   "execution_count": 144,
   "metadata": {},
   "outputs": [
    {
     "data": {
      "text/plain": [
       "array([[5],\n",
       "       [3],\n",
       "       [8]])"
      ]
     },
     "execution_count": 144,
     "metadata": {},
     "output_type": "execute_result"
    }
   ],
   "source": [
    "inputs"
   ]
  },
  {
   "cell_type": "code",
   "execution_count": 143,
   "metadata": {},
   "outputs": [
    {
     "data": {
      "text/plain": [
       "(3, 1)"
      ]
     },
     "execution_count": 143,
     "metadata": {},
     "output_type": "execute_result"
    }
   ],
   "source": [
    "inputs.shape"
   ]
  },
  {
   "cell_type": "code",
   "execution_count": 142,
   "metadata": {},
   "outputs": [
    {
     "data": {
      "text/plain": [
       "array([[80, 27, 95, 38, 57, 61]])"
      ]
     },
     "execution_count": 142,
     "metadata": {},
     "output_type": "execute_result"
    }
   ],
   "source": [
    "# perform a linear combination of the inputs and the matrix X\n",
    "np.dot(inputs.T, X)"
   ]
  },
  {
   "cell_type": "markdown",
   "metadata": {},
   "source": [
    "## Keep in mind: Matrix multiplication is associative, but NOT cummutative\n",
    "\n",
    "When debugging and working out matrix multiplication, remember that the order of the vectors and matrices matter."
   ]
  },
  {
   "cell_type": "code",
   "execution_count": 146,
   "metadata": {},
   "outputs": [],
   "source": [
    "A = np.random.randint(0, 10, size=(5, 3))\n",
    "B = np.random.randint(0, 10, size=(3, 4))\n",
    "X = np.random.randint(0, 10, size=(3, 4))"
   ]
  },
  {
   "cell_type": "markdown",
   "metadata": {},
   "source": [
    "Matrix multiplication is associative (multiplication sequence doesn't matter)"
   ]
  },
  {
   "cell_type": "code",
   "execution_count": 147,
   "metadata": {},
   "outputs": [
    {
     "data": {
      "text/plain": [
       "array([[1923, 1495, 1500],\n",
       "       [1497,  969,  960],\n",
       "       [1722, 1086, 1068],\n",
       "       [2298, 1590, 1572],\n",
       "       [ 893,  521,  508]])"
      ]
     },
     "execution_count": 147,
     "metadata": {},
     "output_type": "execute_result"
    }
   ],
   "source": [
    "A.dot(B.dot(X.T))"
   ]
  },
  {
   "cell_type": "code",
   "execution_count": 148,
   "metadata": {},
   "outputs": [
    {
     "data": {
      "text/plain": [
       "array([[1923, 1495, 1500],\n",
       "       [1497,  969,  960],\n",
       "       [1722, 1086, 1068],\n",
       "       [2298, 1590, 1572],\n",
       "       [ 893,  521,  508]])"
      ]
     },
     "execution_count": 148,
     "metadata": {},
     "output_type": "execute_result"
    }
   ],
   "source": [
    "np.dot(A, B).dot(X.T)"
   ]
  },
  {
   "cell_type": "markdown",
   "metadata": {},
   "source": [
    "Matrix multipliation is NOT commutative (The order of the matrices does matter)"
   ]
  },
  {
   "cell_type": "code",
   "execution_count": 149,
   "metadata": {},
   "outputs": [
    {
     "data": {
      "text/plain": [
       "array([[1935, 1781, 2146, 2698, 1181],\n",
       "       [ 427,  461,  502,  550,  281],\n",
       "       [1608, 1452, 1788, 2292,  984]])"
      ]
     },
     "execution_count": 149,
     "metadata": {},
     "output_type": "execute_result"
    }
   ],
   "source": [
    "B.dot(np.dot(A, X).T)  # The result is not the same!"
   ]
  },
  {
   "cell_type": "markdown",
   "metadata": {},
   "source": [
    "With this little bit of back ground, we can move on to piecing together a simple neural network."
   ]
  },
  {
   "cell_type": "markdown",
   "metadata": {},
   "source": [
    "### Example application of a transformation matrix - the rotation matrix\n",
    "\n",
    "A simple toy application of a tranformation matrix is the rotation matrix. We can use a rotation matrix to rotate points around the origin!"
   ]
  },
  {
   "cell_type": "code",
   "execution_count": 1,
   "metadata": {},
   "outputs": [],
   "source": [
    "def rotation_matrix(vector, angle):\n",
    "    \" angle in radians! \"\n",
    "    rotation_matrix = np.array([[np.cos(angle), -np.sin(angle)],\n",
    "                                [np.sin(angle), np.cos(angle)]])\n",
    "    # linear transformation\n",
    "    return np.dot(vector, rotation_matrix)"
   ]
  },
  {
   "cell_type": "code",
   "execution_count": 23,
   "metadata": {},
   "outputs": [
    {
     "data": {
      "text/plain": [
       "99"
      ]
     },
     "execution_count": 23,
     "metadata": {},
     "output_type": "execute_result"
    }
   ],
   "source": [
    "max(x)"
   ]
  },
  {
   "cell_type": "code",
   "execution_count": 25,
   "metadata": {},
   "outputs": [
    {
     "data": {
      "image/png": "[encoded data removed]",
      "text/plain": [
       "<Figure size 432x288 with 1 Axes>"
      ]
     },
     "metadata": {},
     "output_type": "display_data"
    }
   ],
   "source": [
    "n = 100\n",
    "x = list(x/10. for x in range(n))\n",
    "y = (np.linspace(0, 10, n) + np.random.normal(0.0, .5, n))\n",
    "\n",
    "plt.scatter(x, y, alpha=0.7, s=15)\n",
    "plt.xlim((-11, 11)); plt.ylim((-11, 11))\n",
    "plt.axvline(0, alpha=0.3); plt.axhline(0, alpha=0.3);"
   ]
  },
  {
   "cell_type": "code",
   "execution_count": 28,
   "metadata": {},
   "outputs": [
    {
     "data": {
      "text/plain": [
       "3.141592653589793"
      ]
     },
     "execution_count": 28,
     "metadata": {},
     "output_type": "execute_result"
    }
   ],
   "source": [
    "np.pi"
   ]
  },
  {
   "cell_type": "code",
   "execution_count": 33,
   "metadata": {},
   "outputs": [
    {
     "data": {
      "image/png": "[encoded data removed]",
      "text/plain": [
       "<Figure size 432x288 with 1 Axes>"
      ]
     },
     "metadata": {},
     "output_type": "display_data"
    }
   ],
   "source": [
    "# rotate the points 180 degrees\n",
    "new_points = list()\n",
    "for _x, _y in zip(x, y):\n",
    "    points = np.array([_x, _y])\n",
    "    new_points.append(rotation_matrix(points, np.pi))\n",
    "new_points = np.asarray(new_points)\n",
    "\n",
    "# rotation\n",
    "plt.scatter(new_points[:, 0], new_points[:, 1], alpha=0.7, s=15)\n",
    "plt.xlim((-11, 11)); plt.ylim((-11, 11))\n",
    "plt.axvline(0, alpha=0.3); plt.axhline(0, alpha=0.3);"
   ]
  },
  {
   "cell_type": "code",
   "execution_count": 34,
   "metadata": {},
   "outputs": [
    {
     "data": {
      "image/png": "[encoded data removed]",
      "text/plain": [
       "<Figure size 432x288 with 1 Axes>"
      ]
     },
     "metadata": {},
     "output_type": "display_data"
    }
   ],
   "source": [
    "# rotate the points\n",
    "new_points = list()\n",
    "for _x, _y in zip(x, y):\n",
    "    points = np.array([_x, _y])\n",
    "    new_points.append(rotation_matrix(points, np.pi/2.))\n",
    "new_points = np.asarray(new_points)\n",
    "\n",
    "# rotation\n",
    "plt.scatter(new_points[:, 0], new_points[:, 1], alpha=0.7, s=15)\n",
    "plt.xlim((-11, 11)); plt.ylim((-11, 11))\n",
    "plt.axvline(0, alpha=0.3); plt.axhline(0, alpha=0.3);"
   ]
  },
  {
   "cell_type": "code",
   "execution_count": null,
   "metadata": {},
   "outputs": [],
   "source": []
  }
 ],
 "metadata": {
  "kernelspec": {
   "display_name": "Python 3",
   "language": "python",
   "name": "python3"
  },
  "language_info": {
   "codemirror_mode": {
    "name": "ipython",
    "version": 3
   },
   "file_extension": ".py",
   "mimetype": "text/x-python",
   "name": "python",
   "nbconvert_exporter": "python",
   "pygments_lexer": "ipython3",
   "version": "3.6.5"
  }
 },
 "nbformat": 4,
 "nbformat_minor": 2
}
